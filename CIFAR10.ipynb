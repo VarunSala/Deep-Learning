{
  "nbformat": 4,
  "nbformat_minor": 0,
  "metadata": {
    "colab": {
      "name": "CIFAR10.ipynb",
      "provenance": [],
      "collapsed_sections": []
    },
    "kernelspec": {
      "name": "python3",
      "display_name": "Python 3"
    }
  },
  "cells": [
    {
      "cell_type": "code",
      "metadata": {
        "id": "67UmOGyiKoPu",
        "colab_type": "code",
        "colab": {}
      },
      "source": [
        "import tensorflow as tf"
      ],
      "execution_count": 0,
      "outputs": []
    },
    {
      "cell_type": "code",
      "metadata": {
        "id": "GBeiLfgMKyEL",
        "colab_type": "code",
        "colab": {}
      },
      "source": [
        "import pandas as pd\n",
        "import numpy as np\n",
        "import matplotlib.pyplot as plt\n",
        "%matplotlib inline"
      ],
      "execution_count": 0,
      "outputs": []
    },
    {
      "cell_type": "code",
      "metadata": {
        "id": "SaFWurLwK45t",
        "colab_type": "code",
        "colab": {}
      },
      "source": [
        "from tensorflow.keras.datasets import cifar10"
      ],
      "execution_count": 0,
      "outputs": []
    },
    {
      "cell_type": "code",
      "metadata": {
        "id": "vf0XvjVmLF3P",
        "colab_type": "code",
        "colab": {}
      },
      "source": [
        "(X_train,y_train), (X_test, y_test) = cifar10.load_data()"
      ],
      "execution_count": 0,
      "outputs": []
    },
    {
      "cell_type": "code",
      "metadata": {
        "id": "1H4H7nKiLOnv",
        "colab_type": "code",
        "colab": {
          "base_uri": "https://localhost:8080/",
          "height": 34
        },
        "outputId": "b3a1d284-8c2c-45d9-9b19-c787ce46ee4d"
      },
      "source": [
        "X_train.shape"
      ],
      "execution_count": 5,
      "outputs": [
        {
          "output_type": "execute_result",
          "data": {
            "text/plain": [
              "(50000, 32, 32, 3)"
            ]
          },
          "metadata": {
            "tags": []
          },
          "execution_count": 5
        }
      ]
    },
    {
      "cell_type": "code",
      "metadata": {
        "id": "Q53yzK_0L4Gy",
        "colab_type": "code",
        "colab": {
          "base_uri": "https://localhost:8080/",
          "height": 34
        },
        "outputId": "446edad6-6904-4b31-b0d1-bd1a74c03a92"
      },
      "source": [
        "X_test.shape"
      ],
      "execution_count": 6,
      "outputs": [
        {
          "output_type": "execute_result",
          "data": {
            "text/plain": [
              "(10000, 32, 32, 3)"
            ]
          },
          "metadata": {
            "tags": []
          },
          "execution_count": 6
        }
      ]
    },
    {
      "cell_type": "code",
      "metadata": {
        "id": "Nfq-Kf4ALQw2",
        "colab_type": "code",
        "colab": {
          "base_uri": "https://localhost:8080/",
          "height": 34
        },
        "outputId": "81026960-3901-4bac-e296-58495ee1095a"
      },
      "source": [
        "X_train[0].shape"
      ],
      "execution_count": 7,
      "outputs": [
        {
          "output_type": "execute_result",
          "data": {
            "text/plain": [
              "(32, 32, 3)"
            ]
          },
          "metadata": {
            "tags": []
          },
          "execution_count": 7
        }
      ]
    },
    {
      "cell_type": "code",
      "metadata": {
        "id": "_lwAO--ILT_h",
        "colab_type": "code",
        "colab": {
          "base_uri": "https://localhost:8080/",
          "height": 283
        },
        "outputId": "874b2981-44da-4163-bf33-e4096d2827f9"
      },
      "source": [
        "plt.imshow(X_train[0])"
      ],
      "execution_count": 8,
      "outputs": [
        {
          "output_type": "execute_result",
          "data": {
            "text/plain": [
              "<matplotlib.image.AxesImage at 0x7f6211845c50>"
            ]
          },
          "metadata": {
            "tags": []
          },
          "execution_count": 8
        },
        {
          "output_type": "display_data",
          "data": {
            "image/png": "[encoded data removed]",
            "text/plain": [
              "<Figure size 432x288 with 1 Axes>"
            ]
          },
          "metadata": {
            "tags": [],
            "needs_background": "light"
          }
        }
      ]
    },
    {
      "cell_type": "code",
      "metadata": {
        "id": "5R8cJmeXLeYk",
        "colab_type": "code",
        "colab": {
          "base_uri": "https://localhost:8080/",
          "height": 283
        },
        "outputId": "dca76eb4-a4a7-473d-f3be-14bf21df5e49"
      },
      "source": [
        "plt.imshow(X_train[12])"
      ],
      "execution_count": 9,
      "outputs": [
        {
          "output_type": "execute_result",
          "data": {
            "text/plain": [
              "<matplotlib.image.AxesImage at 0x7f62117e5a20>"
            ]
          },
          "metadata": {
            "tags": []
          },
          "execution_count": 9
        },
        {
          "output_type": "display_data",
          "data": {
            "image/png": "[encoded data removed]",
            "text/plain": [
              "<Figure size 432x288 with 1 Axes>"
            ]
          },
          "metadata": {
            "tags": [],
            "needs_background": "light"
          }
        }
      ]
    },
    {
      "cell_type": "code",
      "metadata": {
        "id": "AKFClAtLLkBs",
        "colab_type": "code",
        "colab": {
          "base_uri": "https://localhost:8080/",
          "height": 283
        },
        "outputId": "27d28d03-c989-46a1-cedb-76492edd54ce"
      },
      "source": [
        "plt.imshow(X_train[89])"
      ],
      "execution_count": 10,
      "outputs": [
        {
          "output_type": "execute_result",
          "data": {
            "text/plain": [
              "<matplotlib.image.AxesImage at 0x7f6211308470>"
            ]
          },
          "metadata": {
            "tags": []
          },
          "execution_count": 10
        },
        {
          "output_type": "display_data",
          "data": {
            "image/png": "[encoded data removed]",
            "text/plain": [
              "<Figure size 432x288 with 1 Axes>"
            ]
          },
          "metadata": {
            "tags": [],
            "needs_background": "light"
          }
        }
      ]
    },
    {
      "cell_type": "code",
      "metadata": {
        "id": "8zRrhdmyLnmI",
        "colab_type": "code",
        "colab": {}
      },
      "source": [
        "X_train = X_train / 255\n",
        "X_test = X_test / 255"
      ],
      "execution_count": 0,
      "outputs": []
    },
    {
      "cell_type": "code",
      "metadata": {
        "id": "deVtr_sCLzBZ",
        "colab_type": "code",
        "colab": {
          "base_uri": "https://localhost:8080/",
          "height": 134
        },
        "outputId": "19cab483-e4d1-4c19-e4b0-63bc5a3a3ec7"
      },
      "source": [
        "y_test"
      ],
      "execution_count": 12,
      "outputs": [
        {
          "output_type": "execute_result",
          "data": {
            "text/plain": [
              "array([[3],\n",
              "       [8],\n",
              "       [8],\n",
              "       ...,\n",
              "       [5],\n",
              "       [1],\n",
              "       [7]], dtype=uint8)"
            ]
          },
          "metadata": {
            "tags": []
          },
          "execution_count": 12
        }
      ]
    },
    {
      "cell_type": "code",
      "metadata": {
        "id": "uzIA76tNL8RV",
        "colab_type": "code",
        "colab": {}
      },
      "source": [
        "from tensorflow.keras.utils import to_categorical"
      ],
      "execution_count": 0,
      "outputs": []
    },
    {
      "cell_type": "code",
      "metadata": {
        "id": "Fb3FxN1QMGJE",
        "colab_type": "code",
        "colab": {}
      },
      "source": [
        "y_cat_train = to_categorical(y_train, 10)\n",
        "y_cat_test = to_categorical(y_test, 10)"
      ],
      "execution_count": 0,
      "outputs": []
    },
    {
      "cell_type": "code",
      "metadata": {
        "id": "5LvfghOgMeJ7",
        "colab_type": "code",
        "colab": {}
      },
      "source": [
        "from tensorflow.keras.models import Sequential\n",
        "from tensorflow.keras.layers import Dense, Conv2D, MaxPool2D, Flatten"
      ],
      "execution_count": 0,
      "outputs": []
    },
    {
      "cell_type": "code",
      "metadata": {
        "id": "jrkcjNchMf2o",
        "colab_type": "code",
        "colab": {}
      },
      "source": [
        "model = Sequential()\n",
        "\n",
        "model.add(Conv2D(filters=32, kernel_size=(4,4), input_shape = (32,32,3), activation='relu'))\n",
        "model.add(MaxPool2D(pool_size=(2,2)))\n",
        "\n",
        "model.add(Conv2D(filters=32, kernel_size=(4,4), input_shape = (32,32,3), activation='relu'))\n",
        "model.add(MaxPool2D(pool_size=(2,2)))\n",
        "\n",
        "model.add(Flatten())\n",
        "\n",
        "model.add(Dense(256, activation='relu'))\n",
        "\n",
        "model.add(Dense(10, activation='softmax'))\n",
        "\n",
        "model.compile(optimizer='adam', loss='categorical_crossentropy', metrics=['accuracy'])"
      ],
      "execution_count": 0,
      "outputs": []
    },
    {
      "cell_type": "code",
      "metadata": {
        "id": "bDB8vCxDMf6I",
        "colab_type": "code",
        "colab": {
          "base_uri": "https://localhost:8080/",
          "height": 386
        },
        "outputId": "2a616990-3f13-409a-d863-e3eba8bf6962"
      },
      "source": [
        "model.summary()"
      ],
      "execution_count": 17,
      "outputs": [
        {
          "output_type": "stream",
          "text": [
            "Model: \"sequential\"\n",
            "_________________________________________________________________\n",
            "Layer (type)                 Output Shape              Param #   \n",
            "=================================================================\n",
            "conv2d (Conv2D)              (None, 29, 29, 32)        1568      \n",
            "_________________________________________________________________\n",
            "max_pooling2d (MaxPooling2D) (None, 14, 14, 32)        0         \n",
            "_________________________________________________________________\n",
            "conv2d_1 (Conv2D)            (None, 11, 11, 32)        16416     \n",
            "_________________________________________________________________\n",
            "max_pooling2d_1 (MaxPooling2 (None, 5, 5, 32)          0         \n",
            "_________________________________________________________________\n",
            "flatten (Flatten)            (None, 800)               0         \n",
            "_________________________________________________________________\n",
            "dense (Dense)                (None, 256)               205056    \n",
            "_________________________________________________________________\n",
            "dense_1 (Dense)              (None, 10)                2570      \n",
            "=================================================================\n",
            "Total params: 225,610\n",
            "Trainable params: 225,610\n",
            "Non-trainable params: 0\n",
            "_________________________________________________________________\n"
          ],
          "name": "stdout"
        }
      ]
    },
    {
      "cell_type": "code",
      "metadata": {
        "id": "r-9p6CHCMf9G",
        "colab_type": "code",
        "colab": {}
      },
      "source": [
        "from tensorflow.keras.callbacks import EarlyStopping"
      ],
      "execution_count": 0,
      "outputs": []
    },
    {
      "cell_type": "code",
      "metadata": {
        "id": "wSS-YfByMgOL",
        "colab_type": "code",
        "colab": {}
      },
      "source": [
        "early_stop = EarlyStopping(monitor='val_loss', patience=2)"
      ],
      "execution_count": 0,
      "outputs": []
    },
    {
      "cell_type": "code",
      "metadata": {
        "id": "djK31bCJPlgy",
        "colab_type": "code",
        "colab": {
          "base_uri": "https://localhost:8080/",
          "height": 269
        },
        "outputId": "2c401552-5640-40d8-d310-f6244e40eb98"
      },
      "source": [
        "model.fit(X_train, y_cat_train, epochs=15, validation_data=(X_test,y_cat_test), callbacks=[early_stop])"
      ],
      "execution_count": 20,
      "outputs": [
        {
          "output_type": "stream",
          "text": [
            "Epoch 1/15\n",
            "1563/1563 [==============================] - 57s 36ms/step - loss: 1.4706 - accuracy: 0.4672 - val_loss: 1.2652 - val_accuracy: 0.5510\n",
            "Epoch 2/15\n",
            "1563/1563 [==============================] - 57s 36ms/step - loss: 1.1464 - accuracy: 0.5935 - val_loss: 1.0792 - val_accuracy: 0.6151\n",
            "Epoch 3/15\n",
            "1563/1563 [==============================] - 57s 36ms/step - loss: 0.9985 - accuracy: 0.6490 - val_loss: 1.0166 - val_accuracy: 0.6480\n",
            "Epoch 4/15\n",
            "1563/1563 [==============================] - 57s 37ms/step - loss: 0.8894 - accuracy: 0.6929 - val_loss: 0.9746 - val_accuracy: 0.6627\n",
            "Epoch 5/15\n",
            "1563/1563 [==============================] - 57s 37ms/step - loss: 0.7987 - accuracy: 0.7232 - val_loss: 0.9267 - val_accuracy: 0.6832\n",
            "Epoch 6/15\n",
            "1563/1563 [==============================] - 57s 37ms/step - loss: 0.7149 - accuracy: 0.7517 - val_loss: 0.9480 - val_accuracy: 0.6825\n",
            "Epoch 7/15\n",
            "1563/1563 [==============================] - 57s 36ms/step - loss: 0.6486 - accuracy: 0.7762 - val_loss: 0.9363 - val_accuracy: 0.6905\n"
          ],
          "name": "stdout"
        },
        {
          "output_type": "execute_result",
          "data": {
            "text/plain": [
              "<tensorflow.python.keras.callbacks.History at 0x7f6211c7e390>"
            ]
          },
          "metadata": {
            "tags": []
          },
          "execution_count": 20
        }
      ]
    },
    {
      "cell_type": "code",
      "metadata": {
        "id": "oEbLqWCnVruf",
        "colab_type": "code",
        "colab": {}
      },
      "source": [
        "metrics = pd.DataFrame(model.history.history)"
      ],
      "execution_count": 0,
      "outputs": []
    },
    {
      "cell_type": "code",
      "metadata": {
        "id": "Rslg2oKgP318",
        "colab_type": "code",
        "colab": {
          "base_uri": "https://localhost:8080/",
          "height": 254
        },
        "outputId": "9c2eb471-ced8-4de5-acbf-ab6ab7bde812"
      },
      "source": [
        "metrics"
      ],
      "execution_count": 23,
      "outputs": [
        {
          "output_type": "execute_result",
          "data": {
            "text/html": [
              "<div>\n",
              "<style scoped>\n",
              "    .dataframe tbody tr th:only-of-type {\n",
              "        vertical-align: middle;\n",
              "    }\n",
              "\n",
              "    .dataframe tbody tr th {\n",
              "        vertical-align: top;\n",
              "    }\n",
              "\n",
              "    .dataframe thead th {\n",
              "        text-align: right;\n",
              "    }\n",
              "</style>\n",
              "<table border=\"1\" class=\"dataframe\">\n",
              "  <thead>\n",
              "    <tr style=\"text-align: right;\">\n",
              "      <th></th>\n",
              "      <th>loss</th>\n",
              "      <th>accuracy</th>\n",
              "      <th>val_loss</th>\n",
              "      <th>val_accuracy</th>\n",
              "    </tr>\n",
              "  </thead>\n",
              "  <tbody>\n",
              "    <tr>\n",
              "      <th>0</th>\n",
              "      <td>1.470640</td>\n",
              "      <td>0.46718</td>\n",
              "      <td>1.265206</td>\n",
              "      <td>0.5510</td>\n",
              "    </tr>\n",
              "    <tr>\n",
              "      <th>1</th>\n",
              "      <td>1.146418</td>\n",
              "      <td>0.59350</td>\n",
              "      <td>1.079203</td>\n",
              "      <td>0.6151</td>\n",
              "    </tr>\n",
              "    <tr>\n",
              "      <th>2</th>\n",
              "      <td>0.998494</td>\n",
              "      <td>0.64898</td>\n",
              "      <td>1.016606</td>\n",
              "      <td>0.6480</td>\n",
              "    </tr>\n",
              "    <tr>\n",
              "      <th>3</th>\n",
              "      <td>0.889358</td>\n",
              "      <td>0.69286</td>\n",
              "      <td>0.974599</td>\n",
              "      <td>0.6627</td>\n",
              "    </tr>\n",
              "    <tr>\n",
              "      <th>4</th>\n",
              "      <td>0.798696</td>\n",
              "      <td>0.72318</td>\n",
              "      <td>0.926662</td>\n",
              "      <td>0.6832</td>\n",
              "    </tr>\n",
              "    <tr>\n",
              "      <th>5</th>\n",
              "      <td>0.714895</td>\n",
              "      <td>0.75170</td>\n",
              "      <td>0.948030</td>\n",
              "      <td>0.6825</td>\n",
              "    </tr>\n",
              "    <tr>\n",
              "      <th>6</th>\n",
              "      <td>0.648638</td>\n",
              "      <td>0.77616</td>\n",
              "      <td>0.936304</td>\n",
              "      <td>0.6905</td>\n",
              "    </tr>\n",
              "  </tbody>\n",
              "</table>\n",
              "</div>"
            ],
            "text/plain": [
              "       loss  accuracy  val_loss  val_accuracy\n",
              "0  1.470640   0.46718  1.265206        0.5510\n",
              "1  1.146418   0.59350  1.079203        0.6151\n",
              "2  0.998494   0.64898  1.016606        0.6480\n",
              "3  0.889358   0.69286  0.974599        0.6627\n",
              "4  0.798696   0.72318  0.926662        0.6832\n",
              "5  0.714895   0.75170  0.948030        0.6825\n",
              "6  0.648638   0.77616  0.936304        0.6905"
            ]
          },
          "metadata": {
            "tags": []
          },
          "execution_count": 23
        }
      ]
    },
    {
      "cell_type": "code",
      "metadata": {
        "id": "mNKTJbHXZHgb",
        "colab_type": "code",
        "colab": {
          "base_uri": "https://localhost:8080/",
          "height": 282
        },
        "outputId": "8eea011a-0e83-44d3-a2fe-30de3105e177"
      },
      "source": [
        "metrics[['accuracy', 'val_accuracy']].plot()"
      ],
      "execution_count": 28,
      "outputs": [
        {
          "output_type": "execute_result",
          "data": {
            "text/plain": [
              "<matplotlib.axes._subplots.AxesSubplot at 0x7f620761a8d0>"
            ]
          },
          "metadata": {
            "tags": []
          },
          "execution_count": 28
        },
        {
          "output_type": "display_data",
          "data": {
            "image/png": "[encoded data removed]",
            "text/plain": [
              "<Figure size 432x288 with 1 Axes>"
            ]
          },
          "metadata": {
            "tags": [],
            "needs_background": "light"
          }
        }
      ]
    },
    {
      "cell_type": "code",
      "metadata": {
        "id": "TIDyy5irceV3",
        "colab_type": "code",
        "colab": {
          "base_uri": "https://localhost:8080/",
          "height": 282
        },
        "outputId": "82e9dbc6-3450-4fc4-e4f3-51611d6dd3ba"
      },
      "source": [
        "metrics[['loss', 'val_loss']].plot()"
      ],
      "execution_count": 27,
      "outputs": [
        {
          "output_type": "execute_result",
          "data": {
            "text/plain": [
              "<matplotlib.axes._subplots.AxesSubplot at 0x7f620768dd30>"
            ]
          },
          "metadata": {
            "tags": []
          },
          "execution_count": 27
        },
        {
          "output_type": "display_data",
          "data": {
            "image/png": "[encoded data removed]",
            "text/plain": [
              "<Figure size 432x288 with 1 Axes>"
            ]
          },
          "metadata": {
            "tags": [],
            "needs_background": "light"
          }
        }
      ]
    },
    {
      "cell_type": "code",
      "metadata": {
        "id": "WwvUsZzncwxa",
        "colab_type": "code",
        "colab": {
          "base_uri": "https://localhost:8080/",
          "height": 34
        },
        "outputId": "9f2a3606-ca2d-41ff-eaa1-02481ff4391e"
      },
      "source": [
        "model.evaluate(X_test,y_cat_test,verbose=0)"
      ],
      "execution_count": 29,
      "outputs": [
        {
          "output_type": "execute_result",
          "data": {
            "text/plain": [
              "[0.9363037943840027, 0.690500020980835]"
            ]
          },
          "metadata": {
            "tags": []
          },
          "execution_count": 29
        }
      ]
    },
    {
      "cell_type": "code",
      "metadata": {
        "id": "mPEXZ00ZdBvi",
        "colab_type": "code",
        "colab": {}
      },
      "source": [
        "from sklearn.metrics import classification_report, confusion_matrix"
      ],
      "execution_count": 0,
      "outputs": []
    },
    {
      "cell_type": "code",
      "metadata": {
        "id": "j8XEDQiIdOio",
        "colab_type": "code",
        "colab": {
          "base_uri": "https://localhost:8080/",
          "height": 87
        },
        "outputId": "cbb05ec1-b228-4e03-b5e8-3ebe0d20c1b9"
      },
      "source": [
        "predictions = model.predict_classes(X_test)"
      ],
      "execution_count": 33,
      "outputs": [
        {
          "output_type": "stream",
          "text": [
            "WARNING:tensorflow:From <ipython-input-33-bc83193b8b59>:1: Sequential.predict_classes (from tensorflow.python.keras.engine.sequential) is deprecated and will be removed after 2021-01-01.\n",
            "Instructions for updating:\n",
            "Please use instead:* `np.argmax(model.predict(x), axis=-1)`,   if your model does multi-class classification   (e.g. if it uses a `softmax` last-layer activation).* `(model.predict(x) > 0.5).astype(\"int32\")`,   if your model does binary classification   (e.g. if it uses a `sigmoid` last-layer activation).\n"
          ],
          "name": "stdout"
        }
      ]
    },
    {
      "cell_type": "code",
      "metadata": {
        "id": "ugwjyENHdS6F",
        "colab_type": "code",
        "colab": {
          "base_uri": "https://localhost:8080/",
          "height": 302
        },
        "outputId": "75ec4e8f-4054-4cd1-b3d7-5f845c7ef159"
      },
      "source": [
        "print(classification_report(y_test, predictions))"
      ],
      "execution_count": 34,
      "outputs": [
        {
          "output_type": "stream",
          "text": [
            "              precision    recall  f1-score   support\n",
            "\n",
            "           0       0.77      0.68      0.72      1000\n",
            "           1       0.80      0.81      0.80      1000\n",
            "           2       0.59      0.61      0.60      1000\n",
            "           3       0.53      0.51      0.52      1000\n",
            "           4       0.63      0.66      0.64      1000\n",
            "           5       0.56      0.65      0.60      1000\n",
            "           6       0.73      0.78      0.76      1000\n",
            "           7       0.79      0.69      0.74      1000\n",
            "           8       0.75      0.81      0.78      1000\n",
            "           9       0.83      0.71      0.76      1000\n",
            "\n",
            "    accuracy                           0.69     10000\n",
            "   macro avg       0.70      0.69      0.69     10000\n",
            "weighted avg       0.70      0.69      0.69     10000\n",
            "\n"
          ],
          "name": "stdout"
        }
      ]
    },
    {
      "cell_type": "code",
      "metadata": {
        "id": "USJ9j1yXdbbv",
        "colab_type": "code",
        "colab": {
          "base_uri": "https://localhost:8080/",
          "height": 185
        },
        "outputId": "5caed396-7b28-48e8-8504-0899f77ffad5"
      },
      "source": [
        "confusion_matrix(y_test, predictions)"
      ],
      "execution_count": 35,
      "outputs": [
        {
          "output_type": "execute_result",
          "data": {
            "text/plain": [
              "array([[679,  23,  63,  19,  26,  11,  12,  25, 121,  21],\n",
              "       [ 15, 805,  12,  13,   6,  14,  17,   5,  39,  74],\n",
              "       [ 55,  10, 612,  50,  83,  87,  63,  24,  13,   3],\n",
              "       [ 15,  11,  79, 513,  77, 188,  65,  25,  18,   9],\n",
              "       [ 16,   4,  80,  72, 660,  51,  67,  36,  13,   1],\n",
              "       [ 12,   1,  66, 152,  55, 645,  23,  37,   4,   5],\n",
              "       [  4,   4,  50,  72,  36,  35, 783,   3,   7,   6],\n",
              "       [  8,   1,  48,  49,  82,  89,  16, 694,   7,   6],\n",
              "       [ 56,  42,  19,  15,  17,  14,   2,   7, 808,  20],\n",
              "       [ 26, 104,  16,  21,  12,  19,  18,  25,  53, 706]])"
            ]
          },
          "metadata": {
            "tags": []
          },
          "execution_count": 35
        }
      ]
    },
    {
      "cell_type": "code",
      "metadata": {
        "id": "uHOFMpWrd81o",
        "colab_type": "code",
        "colab": {
          "base_uri": "https://localhost:8080/",
          "height": 609
        },
        "outputId": "bf813fc8-82b0-43cf-b9a7-de8a11ef7d7c"
      },
      "source": [
        "import seaborn as sns\n",
        "\n",
        "plt.figure(figsize=(10,10))\n",
        "sns.heatmap(confusion_matrix(y_test, predictions), annot=True)"
      ],
      "execution_count": 37,
      "outputs": [
        {
          "output_type": "execute_result",
          "data": {
            "text/plain": [
              "<matplotlib.axes._subplots.AxesSubplot at 0x7f625398d320>"
            ]
          },
          "metadata": {
            "tags": []
          },
          "execution_count": 37
        },
        {
          "output_type": "display_data",
          "data": {
            "image/png": "[encoded data removed]",
            "text/plain": [
              "<Figure size 720x720 with 2 Axes>"
            ]
          },
          "metadata": {
            "tags": [],
            "needs_background": "light"
          }
        }
      ]
    },
    {
      "cell_type": "code",
      "metadata": {
        "id": "vQs9oimSeOGr",
        "colab_type": "code",
        "colab": {}
      },
      "source": [
        "test_image = X_test[16]"
      ],
      "execution_count": 0,
      "outputs": []
    },
    {
      "cell_type": "code",
      "metadata": {
        "id": "FrX2C9PveZ_t",
        "colab_type": "code",
        "colab": {
          "base_uri": "https://localhost:8080/",
          "height": 840
        },
        "outputId": "55b57ff8-682c-49d1-ba9a-522b53c9c6b0"
      },
      "source": [
        "test_image"
      ],
      "execution_count": 44,
      "outputs": [
        {
          "output_type": "execute_result",
          "data": {
            "text/plain": [
              "array([[[0.37254902, 0.29803922, 0.30588235],\n",
              "        [0.36078431, 0.30196078, 0.30588235],\n",
              "        [0.34901961, 0.30196078, 0.30196078],\n",
              "        ...,\n",
              "        [0.11764706, 0.10980392, 0.14901961],\n",
              "        [0.68627451, 0.71764706, 0.74901961],\n",
              "        [0.88235294, 0.91764706, 0.94117647]],\n",
              "\n",
              "       [[0.35294118, 0.27843137, 0.28627451],\n",
              "        [0.3372549 , 0.28235294, 0.28235294],\n",
              "        [0.3254902 , 0.27843137, 0.27843137],\n",
              "        ...,\n",
              "        [0.        , 0.        , 0.05098039],\n",
              "        [0.23529412, 0.24705882, 0.30980392],\n",
              "        [0.64705882, 0.67058824, 0.74117647]],\n",
              "\n",
              "       [[0.34509804, 0.27058824, 0.27843137],\n",
              "        [0.32941176, 0.2745098 , 0.2745098 ],\n",
              "        [0.32156863, 0.2745098 , 0.2745098 ],\n",
              "        ...,\n",
              "        [0.01960784, 0.        , 0.04705882],\n",
              "        [0.09411765, 0.10196078, 0.18823529],\n",
              "        [0.49803922, 0.54509804, 0.64705882]],\n",
              "\n",
              "       ...,\n",
              "\n",
              "       [[0.79607843, 0.69019608, 0.63137255],\n",
              "        [0.83529412, 0.68627451, 0.61176471],\n",
              "        [0.79215686, 0.64705882, 0.60784314],\n",
              "        ...,\n",
              "        [0.71372549, 0.71764706, 0.74117647],\n",
              "        [0.4627451 , 0.47058824, 0.49019608],\n",
              "        [0.14509804, 0.1254902 , 0.18039216]],\n",
              "\n",
              "       [[0.48235294, 0.36862745, 0.35294118],\n",
              "        [0.82352941, 0.66666667, 0.61568627],\n",
              "        [0.82745098, 0.67058824, 0.62745098],\n",
              "        ...,\n",
              "        [0.45490196, 0.45490196, 0.47058824],\n",
              "        [0.17254902, 0.17647059, 0.18431373],\n",
              "        [0.04313725, 0.01176471, 0.05882353]],\n",
              "\n",
              "       [[0.4       , 0.33333333, 0.32941176],\n",
              "        [0.81568627, 0.71764706, 0.68627451],\n",
              "        [0.84313725, 0.72941176, 0.69019608],\n",
              "        ...,\n",
              "        [0.14509804, 0.12941176, 0.16862745],\n",
              "        [0.06666667, 0.05098039, 0.08627451],\n",
              "        [0.08627451, 0.04313725, 0.10980392]]])"
            ]
          },
          "metadata": {
            "tags": []
          },
          "execution_count": 44
        }
      ]
    },
    {
      "cell_type": "code",
      "metadata": {
        "id": "3YqsdIzQebfV",
        "colab_type": "code",
        "colab": {
          "base_uri": "https://localhost:8080/",
          "height": 283
        },
        "outputId": "8b4416e8-5c19-470f-dbc8-eb9194fc8d8c"
      },
      "source": [
        "plt.imshow(test_image)"
      ],
      "execution_count": 45,
      "outputs": [
        {
          "output_type": "execute_result",
          "data": {
            "text/plain": [
              "<matplotlib.image.AxesImage at 0x7f61fa65bcf8>"
            ]
          },
          "metadata": {
            "tags": []
          },
          "execution_count": 45
        },
        {
          "output_type": "display_data",
          "data": {
            "image/png": "[encoded data removed]",
            "text/plain": [
              "<Figure size 432x288 with 1 Axes>"
            ]
          },
          "metadata": {
            "tags": [],
            "needs_background": "light"
          }
        }
      ]
    },
    {
      "cell_type": "code",
      "metadata": {
        "id": "8hy3VNO7eh-h",
        "colab_type": "code",
        "colab": {
          "base_uri": "https://localhost:8080/",
          "height": 34
        },
        "outputId": "95bd457b-8592-4e33-e1ad-af139b37d7e8"
      },
      "source": [
        "y_test[16]"
      ],
      "execution_count": 46,
      "outputs": [
        {
          "output_type": "execute_result",
          "data": {
            "text/plain": [
              "array([5], dtype=uint8)"
            ]
          },
          "metadata": {
            "tags": []
          },
          "execution_count": 46
        }
      ]
    },
    {
      "cell_type": "code",
      "metadata": {
        "id": "Ih7dDkCxek1u",
        "colab_type": "code",
        "colab": {
          "base_uri": "https://localhost:8080/",
          "height": 34
        },
        "outputId": "0ba5d35f-f1e0-44a2-cc71-5885a1ddabde"
      },
      "source": [
        "model.predict_classes(test_image.reshape(1,32,32,3))"
      ],
      "execution_count": 47,
      "outputs": [
        {
          "output_type": "execute_result",
          "data": {
            "text/plain": [
              "array([5])"
            ]
          },
          "metadata": {
            "tags": []
          },
          "execution_count": 47
        }
      ]
    }
  ]
}