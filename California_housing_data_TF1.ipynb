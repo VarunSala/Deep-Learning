{
  "nbformat": 4,
  "nbformat_minor": 0,
  "metadata": {
    "colab": {
      "name": "California_housing_data_TF1.ipynb",
      "provenance": [],
      "collapsed_sections": []
    },
    "kernelspec": {
      "name": "python3",
      "display_name": "Python 3"
    }
  },
  "cells": [
    {
      "cell_type": "code",
      "metadata": {
        "id": "1OdHQq2cgOY_",
        "colab_type": "code",
        "outputId": "9eff1055-37da-47f5-e220-24f61c79f387",
        "colab": {
          "base_uri": "https://localhost:8080/",
          "height": 34
        }
      },
      "source": [
        "%tensorflow_version 1.x\n",
        "import tensorflow as tf"
      ],
      "execution_count": 1,
      "outputs": [
        {
          "output_type": "stream",
          "text": [
            "TensorFlow 1.x selected.\n"
          ],
          "name": "stdout"
        }
      ]
    },
    {
      "cell_type": "code",
      "metadata": {
        "id": "cfUICer7rXkw",
        "colab_type": "code",
        "colab": {}
      },
      "source": [
        "import numpy as np\n",
        "import pandas as pd\n",
        "import matplotlib.pyplot as plt"
      ],
      "execution_count": 0,
      "outputs": []
    },
    {
      "cell_type": "code",
      "metadata": {
        "id": "i7zLdkdPgYwh",
        "colab_type": "code",
        "outputId": "e9e3b7b0-cc2c-41ca-d951-13aea6dff544",
        "colab": {
          "base_uri": "https://localhost:8080/",
          "height": 34
        }
      },
      "source": [
        "from sklearn.datasets import fetch_california_housing\n",
        "housing = fetch_california_housing()"
      ],
      "execution_count": 3,
      "outputs": [
        {
          "output_type": "stream",
          "text": [
            "Downloading Cal. housing from https://ndownloader.figshare.com/files/5976036 to /root/scikit_learn_data\n"
          ],
          "name": "stderr"
        }
      ]
    },
    {
      "cell_type": "code",
      "metadata": {
        "id": "8NLmcRPOyrJa",
        "colab_type": "code",
        "colab": {
          "base_uri": "https://localhost:8080/",
          "height": 151
        },
        "outputId": "19022c58-141d-4418-848e-13cea9fc2b46"
      },
      "source": [
        "housing.feature_names"
      ],
      "execution_count": 20,
      "outputs": [
        {
          "output_type": "execute_result",
          "data": {
            "text/plain": [
              "['MedInc',\n",
              " 'HouseAge',\n",
              " 'AveRooms',\n",
              " 'AveBedrms',\n",
              " 'Population',\n",
              " 'AveOccup',\n",
              " 'Latitude',\n",
              " 'Longitude']"
            ]
          },
          "metadata": {
            "tags": []
          },
          "execution_count": 20
        }
      ]
    },
    {
      "cell_type": "code",
      "metadata": {
        "id": "bpEr7Rgo0cqR",
        "colab_type": "code",
        "colab": {
          "base_uri": "https://localhost:8080/",
          "height": 235
        },
        "outputId": "5b18d0e2-f6d1-4867-fd4e-0660031cd374"
      },
      "source": [
        "housing.data"
      ],
      "execution_count": 21,
      "outputs": [
        {
          "output_type": "execute_result",
          "data": {
            "text/plain": [
              "array([[   8.3252    ,   41.        ,    6.98412698, ...,    2.55555556,\n",
              "          37.88      , -122.23      ],\n",
              "       [   8.3014    ,   21.        ,    6.23813708, ...,    2.10984183,\n",
              "          37.86      , -122.22      ],\n",
              "       [   7.2574    ,   52.        ,    8.28813559, ...,    2.80225989,\n",
              "          37.85      , -122.24      ],\n",
              "       ...,\n",
              "       [   1.7       ,   17.        ,    5.20554273, ...,    2.3256351 ,\n",
              "          39.43      , -121.22      ],\n",
              "       [   1.8672    ,   18.        ,    5.32951289, ...,    2.12320917,\n",
              "          39.43      , -121.32      ],\n",
              "       [   2.3886    ,   16.        ,    5.25471698, ...,    2.61698113,\n",
              "          39.37      , -121.24      ]])"
            ]
          },
          "metadata": {
            "tags": []
          },
          "execution_count": 21
        }
      ]
    },
    {
      "cell_type": "code",
      "metadata": {
        "id": "-hf5EPZT0foj",
        "colab_type": "code",
        "colab": {
          "base_uri": "https://localhost:8080/",
          "height": 34
        },
        "outputId": "9c62e78f-d631-42e1-e854-8bbe104cc2ce"
      },
      "source": [
        "housing.target"
      ],
      "execution_count": 22,
      "outputs": [
        {
          "output_type": "execute_result",
          "data": {
            "text/plain": [
              "array([4.526, 3.585, 3.521, ..., 0.923, 0.847, 0.894])"
            ]
          },
          "metadata": {
            "tags": []
          },
          "execution_count": 22
        }
      ]
    },
    {
      "cell_type": "code",
      "metadata": {
        "id": "-EzNJ7kj0i3W",
        "colab_type": "code",
        "colab": {
          "base_uri": "https://localhost:8080/",
          "height": 134
        },
        "outputId": "79e83cb7-f806-4b7e-f8f9-244f65831b3d"
      },
      "source": [
        "housing.target.reshape(-1,1)"
      ],
      "execution_count": 23,
      "outputs": [
        {
          "output_type": "execute_result",
          "data": {
            "text/plain": [
              "array([[4.526],\n",
              "       [3.585],\n",
              "       [3.521],\n",
              "       ...,\n",
              "       [0.923],\n",
              "       [0.847],\n",
              "       [0.894]])"
            ]
          },
          "metadata": {
            "tags": []
          },
          "execution_count": 23
        }
      ]
    },
    {
      "cell_type": "code",
      "metadata": {
        "id": "C7cZI3lQ0mtA",
        "colab_type": "code",
        "colab": {
          "base_uri": "https://localhost:8080/",
          "height": 34
        },
        "outputId": "5e6cbd96-2b1f-44d4-ed6b-b84c45f90ebb"
      },
      "source": [
        "housing.data.shape"
      ],
      "execution_count": 25,
      "outputs": [
        {
          "output_type": "execute_result",
          "data": {
            "text/plain": [
              "(20640, 8)"
            ]
          },
          "metadata": {
            "tags": []
          },
          "execution_count": 25
        }
      ]
    },
    {
      "cell_type": "code",
      "metadata": {
        "id": "CIi8CmTv0utP",
        "colab_type": "code",
        "colab": {}
      },
      "source": [
        "m,n = housing.data.shape"
      ],
      "execution_count": 0,
      "outputs": []
    },
    {
      "cell_type": "code",
      "metadata": {
        "id": "V1ykFGkm08Xo",
        "colab_type": "code",
        "colab": {
          "base_uri": "https://localhost:8080/",
          "height": 235
        },
        "outputId": "2f225e4b-5d17-4e5d-8d1f-4458686b70f0"
      },
      "source": [
        "housing_data_bias = np.column_stack([np.ones(m), housing.data])\n",
        "housing_data_bias"
      ],
      "execution_count": 28,
      "outputs": [
        {
          "output_type": "execute_result",
          "data": {
            "text/plain": [
              "array([[   1.        ,    8.3252    ,   41.        , ...,    2.55555556,\n",
              "          37.88      , -122.23      ],\n",
              "       [   1.        ,    8.3014    ,   21.        , ...,    2.10984183,\n",
              "          37.86      , -122.22      ],\n",
              "       [   1.        ,    7.2574    ,   52.        , ...,    2.80225989,\n",
              "          37.85      , -122.24      ],\n",
              "       ...,\n",
              "       [   1.        ,    1.7       ,   17.        , ...,    2.3256351 ,\n",
              "          39.43      , -121.22      ],\n",
              "       [   1.        ,    1.8672    ,   18.        , ...,    2.12320917,\n",
              "          39.43      , -121.32      ],\n",
              "       [   1.        ,    2.3886    ,   16.        , ...,    2.61698113,\n",
              "          39.37      , -121.24      ]])"
            ]
          },
          "metadata": {
            "tags": []
          },
          "execution_count": 28
        }
      ]
    },
    {
      "cell_type": "code",
      "metadata": {
        "id": "k-1RA-y81MaE",
        "colab_type": "code",
        "colab": {}
      },
      "source": [
        "from sklearn.preprocessing import StandardScaler"
      ],
      "execution_count": 0,
      "outputs": []
    },
    {
      "cell_type": "code",
      "metadata": {
        "id": "S9i_Uur81WRD",
        "colab_type": "code",
        "colab": {}
      },
      "source": [
        "scaler = StandardScaler()"
      ],
      "execution_count": 0,
      "outputs": []
    },
    {
      "cell_type": "code",
      "metadata": {
        "id": "ajQfeOmf1Zo_",
        "colab_type": "code",
        "colab": {}
      },
      "source": [
        "scaled = scaler.fit_transform(housing_data_bias)"
      ],
      "execution_count": 0,
      "outputs": []
    },
    {
      "cell_type": "code",
      "metadata": {
        "id": "3xSkLnoi1e_8",
        "colab_type": "code",
        "colab": {
          "base_uri": "https://localhost:8080/",
          "height": 185
        },
        "outputId": "9488be13-2445-4714-ccee-caaca627e91d"
      },
      "source": [
        "tf.reset_default_graph()\n",
        "\n",
        "mse_loss = []\n",
        "epochs_list = []\n",
        "\n",
        "num_of_epochs = 100\n",
        "lr = 0.1\n",
        "\n",
        "X = tf.constant(scaled, dtype = tf.float32)\n",
        "y = tf.constant(target, dtype = tf.float32)\n",
        "\n",
        "weights = tf.Variable(tf.random_uniform([n+1, 1], -1.0, 1.0))\n",
        "\n",
        "y_pred = tf.matmul(X, weights)\n",
        "error = y_pred - y\n",
        "mse = tf.reduce_mean(tf.square(error))\n",
        "\n",
        "optimizer = tf.train.GradientDescentOptimizer(learning_rate = lr)\n",
        "training_op = optimizer.minimize(mse)\n",
        "init = tf.global_variables_initializer()\n",
        "\n",
        "with tf.Session() as sess:\n",
        "  sess.run(init)\n",
        "  for epoch in range(num_of_epochs):\n",
        "    if epoch % 10 == 0:\n",
        "      print(\"Epoch:\",epoch, \"MSE:\",mse.eval())\n",
        "      mse_loss.append(mse.eval())\n",
        "      epochs_list.append(epoch)\n",
        "    sess.run(training_op)\n",
        "  final_weights = weights.eval()"
      ],
      "execution_count": 37,
      "outputs": [
        {
          "output_type": "stream",
          "text": [
            "Epoch: 0 MSE: 6.1992025\n",
            "Epoch: 10 MSE: 4.934189\n",
            "Epoch: 20 MSE: 4.889474\n",
            "Epoch: 30 MSE: 4.866815\n",
            "Epoch: 40 MSE: 4.850443\n",
            "Epoch: 50 MSE: 4.8384266\n",
            "Epoch: 60 MSE: 4.829578\n",
            "Epoch: 70 MSE: 4.82304\n",
            "Epoch: 80 MSE: 4.8181944\n",
            "Epoch: 90 MSE: 4.81459\n"
          ],
          "name": "stdout"
        }
      ]
    },
    {
      "cell_type": "code",
      "metadata": {
        "id": "JeAS2v6W7mnE",
        "colab_type": "code",
        "colab": {
          "base_uri": "https://localhost:8080/",
          "height": 282
        },
        "outputId": "f8d747be-927f-4012-dd48-bda6fa53ecf4"
      },
      "source": [
        "plt.plot(epochs_list, mse_loss)"
      ],
      "execution_count": 38,
      "outputs": [
        {
          "output_type": "execute_result",
          "data": {
            "text/plain": [
              "[<matplotlib.lines.Line2D at 0x7f6b77efe2b0>]"
            ]
          },
          "metadata": {
            "tags": []
          },
          "execution_count": 38
        },
        {
          "output_type": "display_data",
          "data": {
            "image/png": "[encoded data removed]",
            "text/plain": [
              "<Figure size 432x288 with 1 Axes>"
            ]
          },
          "metadata": {
            "tags": [],
            "needs_background": "light"
          }
        }
      ]
    },
    {
      "cell_type": "code",
      "metadata": {
        "id": "2PTrq_Yz8A8S",
        "colab_type": "code",
        "colab": {}
      },
      "source": [
        ""
      ],
      "execution_count": 0,
      "outputs": []
    }
  ]
}