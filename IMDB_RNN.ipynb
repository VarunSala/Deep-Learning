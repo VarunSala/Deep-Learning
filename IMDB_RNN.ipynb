{
  "nbformat": 4,
  "nbformat_minor": 0,
  "metadata": {
    "colab": {
      "name": "IMDB - RNN.ipynb",
      "provenance": [],
      "collapsed_sections": []
    },
    "kernelspec": {
      "name": "python3",
      "display_name": "Python 3"
    },
    "accelerator": "GPU"
  },
  "cells": [
    {
      "cell_type": "code",
      "metadata": {
        "id": "wabrLXsB14Zx",
        "colab_type": "code",
        "colab": {}
      },
      "source": [
        "import tensorflow as tf\n",
        "import numpy as np\n",
        "import pandas as pd\n",
        "import matplotlib.pyplot as plt"
      ],
      "execution_count": 28,
      "outputs": []
    },
    {
      "cell_type": "code",
      "metadata": {
        "id": "B6ASo9G64ifG",
        "colab_type": "code",
        "colab": {}
      },
      "source": [
        "plt.rcParams['font.size'] = 14\n",
        "plt.rcParams['axes.grid'] = True"
      ],
      "execution_count": 29,
      "outputs": []
    },
    {
      "cell_type": "code",
      "metadata": {
        "id": "tYKacPsW4wIN",
        "colab_type": "code",
        "colab": {}
      },
      "source": [
        "from tensorflow.keras.datasets import imdb"
      ],
      "execution_count": 30,
      "outputs": []
    },
    {
      "cell_type": "code",
      "metadata": {
        "id": "yTv4Dno940hZ",
        "colab_type": "code",
        "colab": {}
      },
      "source": [
        "vocab_size = 10000\n",
        "max_words = 500\n",
        "(X_train, y_train), (X_test, y_test) = imdb.load_data(path='imdb.npz', \n",
        "                                                      num_words=vocab_size, \n",
        "                                                      skip_top=10, \n",
        "                                                      maxlen=max_words)"
      ],
      "execution_count": 31,
      "outputs": []
    },
    {
      "cell_type": "code",
      "metadata": {
        "id": "amBVpGaU5yoO",
        "colab_type": "code",
        "colab": {
          "base_uri": "https://localhost:8080/",
          "height": 70
        },
        "outputId": "c3d5f6ec-14a4-4f99-a7de-322fffcc90d9"
      },
      "source": [
        "print(\"----review---\")\n",
        "print(X_train[10])"
      ],
      "execution_count": 32,
      "outputs": [
        {
          "output_type": "stream",
          "text": [
            "----review---\n",
            "[2, 13, 119, 954, 189, 1554, 13, 92, 459, 48, 2, 116, 2, 1492, 2291, 42, 726, 2, 1939, 168, 2031, 13, 423, 14, 20, 549, 18, 2, 2, 547, 32, 2, 96, 39, 2, 454, 2, 2, 22, 2, 2, 55, 130, 168, 13, 92, 359, 2, 158, 1511, 2, 42, 2, 1913, 19, 194, 4455, 4121, 2, 114, 2, 72, 21, 465, 9667, 304, 2, 51, 2, 14, 20, 44, 155, 2, 2, 226, 162, 616, 651, 51, 2, 14, 20, 44, 10, 10, 14, 218, 4843, 629, 42, 3017, 21, 48, 25, 28, 35, 534, 2, 2, 320, 2, 516, 2, 42, 25, 181, 2, 130, 56, 547, 3571, 2, 1471, 851, 14, 2286]\n"
          ],
          "name": "stdout"
        }
      ]
    },
    {
      "cell_type": "code",
      "metadata": {
        "id": "-UFkn6Cd7zvZ",
        "colab_type": "code",
        "colab": {
          "base_uri": "https://localhost:8080/",
          "height": 50
        },
        "outputId": "6b42bce4-fdaf-4ce3-a605-49c9d19a2038"
      },
      "source": [
        "print(\"----label----\")\n",
        "print(y_train[10])"
      ],
      "execution_count": 33,
      "outputs": [
        {
          "output_type": "stream",
          "text": [
            "----label----\n",
            "0\n"
          ],
          "name": "stdout"
        }
      ]
    },
    {
      "cell_type": "code",
      "metadata": {
        "id": "pJDr_wp47-oI",
        "colab_type": "code",
        "colab": {}
      },
      "source": [
        "word2id = imdb.get_word_index()"
      ],
      "execution_count": 34,
      "outputs": []
    },
    {
      "cell_type": "code",
      "metadata": {
        "id": "_sDt6O6GTxQz",
        "colab_type": "code",
        "colab": {}
      },
      "source": [
        "id2word = {i: word for word, i in word2id.items()}"
      ],
      "execution_count": 35,
      "outputs": []
    },
    {
      "cell_type": "code",
      "metadata": {
        "id": "-YYBkPohCVH0",
        "colab_type": "code",
        "colab": {
          "base_uri": "https://localhost:8080/",
          "height": 70
        },
        "outputId": "b813a1dd-ebaf-417c-e4cf-ff94f643d748"
      },
      "source": [
        "print(\"------ review with words ------\")\n",
        "print([id2word.get(i,' ') for i in X_train[10]])"
      ],
      "execution_count": 36,
      "outputs": [
        {
          "output_type": "stream",
          "text": [
            "------ review with words ------\n",
            "['and', 'was', 'did', 'hands', 'fact', 'absolute', 'was', 'then', 'laugh', 'what', 'and', 'love', 'and', 'notice', 'matters', \"it's\", 'similar', 'and', 'numerous', 'few', 'blind', 'was', \"couldn't\", 'as', 'on', 'type', 'but', 'and', 'and', 'slow', 'an', 'and', 'too', 'or', 'and', '5', 'and', 'and', 'you', 'and', 'and', 'time', 'here', 'few', 'was', 'then', 'kids', 'and', \"didn't\", 'billy', 'and', \"it's\", 'and', 'rubbish', 'film', 'thought', 'rotten', 'carl', 'and', 'little', 'and', 'we', 'not', 'seemed', 'paperhouse', 'beautiful', 'and', 'when', 'and', 'as', 'on', 'has', '10', 'and', 'and', 'script', 'actually', 'sad', 'happy', 'when', 'and', 'as', 'on', 'has', 'i', 'i', 'as', 'interesting', 'seeks', 'hero', \"it's\", 'nine', 'not', 'what', 'have', 'one', 'so', 'stories', 'and', 'and', 'star', 'and', 'car', 'and', \"it's\", 'have', 'pretty', 'and', 'here', 'she', 'slow', 'individuals', 'and', 'difference', 'note', 'as', 'sequels']\n"
          ],
          "name": "stdout"
        }
      ]
    },
    {
      "cell_type": "code",
      "metadata": {
        "id": "rdZTAiUCTiH9",
        "colab_type": "code",
        "colab": {
          "base_uri": "https://localhost:8080/",
          "height": 50
        },
        "outputId": "1d586905-9248-46f2-ee04-e9dbd3ac20c5"
      },
      "source": [
        "print(\"-------label-------\")\n",
        "print(y_train[10])"
      ],
      "execution_count": 37,
      "outputs": [
        {
          "output_type": "stream",
          "text": [
            "-------label-------\n",
            "0\n"
          ],
          "name": "stdout"
        }
      ]
    },
    {
      "cell_type": "code",
      "metadata": {
        "id": "9N3DL9tdVHYU",
        "colab_type": "code",
        "colab": {
          "base_uri": "https://localhost:8080/",
          "height": 34
        },
        "outputId": "b40f8b86-990a-4bfe-ab98-fd48ebdaf8d7"
      },
      "source": [
        "len(X_train[10])"
      ],
      "execution_count": 38,
      "outputs": [
        {
          "output_type": "execute_result",
          "data": {
            "text/plain": [
              "117"
            ]
          },
          "metadata": {
            "tags": []
          },
          "execution_count": 38
        }
      ]
    },
    {
      "cell_type": "code",
      "metadata": {
        "id": "y7Ul57M2cnlX",
        "colab_type": "code",
        "colab": {}
      },
      "source": [
        "from tensorflow.keras.preprocessing.sequence import pad_sequences"
      ],
      "execution_count": 39,
      "outputs": []
    },
    {
      "cell_type": "code",
      "metadata": {
        "id": "oLZFvgDGcniQ",
        "colab_type": "code",
        "colab": {}
      },
      "source": [
        "X_train = pad_sequences(X_train, maxlen=max_words)\n",
        "X_test = pad_sequences(X_test, maxlen=max_words)"
      ],
      "execution_count": 40,
      "outputs": []
    },
    {
      "cell_type": "code",
      "metadata": {
        "id": "SPMQ_hKZfLUG",
        "colab_type": "code",
        "colab": {
          "base_uri": "https://localhost:8080/",
          "height": 134
        },
        "outputId": "dc3ad44c-f6af-48ff-bbc2-7bf8ff5dca20"
      },
      "source": [
        "X_train"
      ],
      "execution_count": 41,
      "outputs": [
        {
          "output_type": "execute_result",
          "data": {
            "text/plain": [
              "array([[   0,    0,    0, ...,   19,  178,   32],\n",
              "       [   0,    0,    0, ...,   16,  145,   95],\n",
              "       [   0,    0,    0, ...,    2,  129,  113],\n",
              "       ...,\n",
              "       [   0,    0,    0, ...,   28, 1816,   98],\n",
              "       [   0,    0,    0, ...,  158,   10,   10],\n",
              "       [   0,    0,    0, ...,  220,  484,  867]], dtype=int32)"
            ]
          },
          "metadata": {
            "tags": []
          },
          "execution_count": 41
        }
      ]
    },
    {
      "cell_type": "code",
      "metadata": {
        "id": "if_CzUGlfOes",
        "colab_type": "code",
        "colab": {
          "base_uri": "https://localhost:8080/",
          "height": 34
        },
        "outputId": "98f1afda-e359-44a1-bb1a-e8417a7061ba"
      },
      "source": [
        "len(X_train[10])"
      ],
      "execution_count": 42,
      "outputs": [
        {
          "output_type": "execute_result",
          "data": {
            "text/plain": [
              "500"
            ]
          },
          "metadata": {
            "tags": []
          },
          "execution_count": 42
        }
      ]
    },
    {
      "cell_type": "code",
      "metadata": {
        "id": "nXgVpQrjfVm1",
        "colab_type": "code",
        "colab": {
          "base_uri": "https://localhost:8080/",
          "height": 34
        },
        "outputId": "58a80261-92fa-4482-8af1-150f74776e44"
      },
      "source": [
        "X_train.shape"
      ],
      "execution_count": 43,
      "outputs": [
        {
          "output_type": "execute_result",
          "data": {
            "text/plain": [
              "(25000, 500)"
            ]
          },
          "metadata": {
            "tags": []
          },
          "execution_count": 43
        }
      ]
    },
    {
      "cell_type": "code",
      "metadata": {
        "id": "06XfUYY0f2qY",
        "colab_type": "code",
        "colab": {
          "base_uri": "https://localhost:8080/",
          "height": 34
        },
        "outputId": "a6f21456-94c6-48b2-f85d-8caec2f775ae"
      },
      "source": [
        "X_train = np.reshape(X_train, (X_train.shape[0], X_train.shape[1], 1))\n",
        "X_train.shape"
      ],
      "execution_count": 44,
      "outputs": [
        {
          "output_type": "execute_result",
          "data": {
            "text/plain": [
              "(25000, 500, 1)"
            ]
          },
          "metadata": {
            "tags": []
          },
          "execution_count": 44
        }
      ]
    },
    {
      "cell_type": "markdown",
      "metadata": {
        "id": "1L3GwWVTu8hY",
        "colab_type": "text"
      },
      "source": [
        "### Simple RNN"
      ]
    },
    {
      "cell_type": "code",
      "metadata": {
        "id": "hJediIbEhCjE",
        "colab_type": "code",
        "colab": {}
      },
      "source": [
        "from tensorflow.keras.models import Sequential\n",
        "from tensorflow.keras.layers import Dense, SimpleRNN, LSTM, Bidirectional, Embedding"
      ],
      "execution_count": 45,
      "outputs": []
    },
    {
      "cell_type": "code",
      "metadata": {
        "id": "qHbjPLmZuw7D",
        "colab_type": "code",
        "colab": {}
      },
      "source": [
        "model = Sequential()\n",
        "model.add(SimpleRNN(units=64, input_shape=(500,1)))\n",
        "model.add(Dense(1, activation='sigmoid'))\n",
        "model.compile(loss='binary_crossentropy', optimizer='adam', metrics=['accuracy'])"
      ],
      "execution_count": 46,
      "outputs": []
    },
    {
      "cell_type": "code",
      "metadata": {
        "id": "i0w4tUIkxI36",
        "colab_type": "code",
        "colab": {
          "base_uri": "https://localhost:8080/",
          "height": 202
        },
        "outputId": "fb6362b5-0f8d-4c72-a040-04a8215acfad"
      },
      "source": [
        "model.fit(X_train, y_train, epochs=5, batch_size=512, validation_split=0.2)"
      ],
      "execution_count": 47,
      "outputs": [
        {
          "output_type": "stream",
          "text": [
            "Epoch 1/5\n",
            "40/40 [==============================] - 17s 421ms/step - loss: 0.7239 - accuracy: 0.5017 - val_loss: 0.6924 - val_accuracy: 0.5052\n",
            "Epoch 2/5\n",
            "40/40 [==============================] - 17s 419ms/step - loss: 0.6934 - accuracy: 0.5061 - val_loss: 0.6935 - val_accuracy: 0.4970\n",
            "Epoch 3/5\n",
            "40/40 [==============================] - 17s 419ms/step - loss: 0.6926 - accuracy: 0.5105 - val_loss: 0.6919 - val_accuracy: 0.5204\n",
            "Epoch 4/5\n",
            "40/40 [==============================] - 17s 415ms/step - loss: 0.6925 - accuracy: 0.5186 - val_loss: 0.6928 - val_accuracy: 0.5014\n",
            "Epoch 5/5\n",
            "40/40 [==============================] - 17s 422ms/step - loss: 0.6921 - accuracy: 0.5159 - val_loss: 0.6933 - val_accuracy: 0.5078\n"
          ],
          "name": "stdout"
        },
        {
          "output_type": "execute_result",
          "data": {
            "text/plain": [
              "<tensorflow.python.keras.callbacks.History at 0x7f869177b828>"
            ]
          },
          "metadata": {
            "tags": []
          },
          "execution_count": 47
        }
      ]
    },
    {
      "cell_type": "markdown",
      "metadata": {
        "id": "Ype2qgXM22gH",
        "colab_type": "text"
      },
      "source": [
        "### Simple RNN with Embedding"
      ]
    },
    {
      "cell_type": "code",
      "metadata": {
        "id": "3hMWm4P3xIz6",
        "colab_type": "code",
        "colab": {
          "base_uri": "https://localhost:8080/",
          "height": 34
        },
        "outputId": "eb76678e-c7ac-4666-9bcd-f7b4876e46be"
      },
      "source": [
        "X_train = np.reshape(X_train, (X_train.shape[0], X_train.shape[1]))\n",
        "X_train.shape"
      ],
      "execution_count": 48,
      "outputs": [
        {
          "output_type": "execute_result",
          "data": {
            "text/plain": [
              "(25000, 500)"
            ]
          },
          "metadata": {
            "tags": []
          },
          "execution_count": 48
        }
      ]
    },
    {
      "cell_type": "code",
      "metadata": {
        "id": "GUjLZNgIAuc6",
        "colab_type": "code",
        "colab": {}
      },
      "source": [
        "model = Sequential()\n",
        "n_feat = 32\n",
        "model.add(Embedding(input_dim=vocab_size, output_dim=n_feat, trainable=True, input_length=max_words))\n",
        "model.add(SimpleRNN(units=64))\n",
        "model.add(Dense(1, activation='sigmoid'))\n",
        "model.compile(loss='binary_crossentropy', optimizer='adam', metrics=['accuracy'])"
      ],
      "execution_count": 49,
      "outputs": []
    },
    {
      "cell_type": "code",
      "metadata": {
        "id": "cytS00QoBlVf",
        "colab_type": "code",
        "colab": {
          "base_uri": "https://localhost:8080/",
          "height": 202
        },
        "outputId": "9d3e6960-a9a9-42d7-a2b3-22aaeee191c2"
      },
      "source": [
        "model.fit(X_train, y_train, epochs=5, batch_size=512, validation_split=0.2)"
      ],
      "execution_count": 50,
      "outputs": [
        {
          "output_type": "stream",
          "text": [
            "Epoch 1/5\n",
            "40/40 [==============================] - 20s 508ms/step - loss: 0.6887 - accuracy: 0.5447 - val_loss: 0.6838 - val_accuracy: 0.5390\n",
            "Epoch 2/5\n",
            "40/40 [==============================] - 20s 508ms/step - loss: 0.6453 - accuracy: 0.6649 - val_loss: 0.6573 - val_accuracy: 0.5996\n",
            "Epoch 3/5\n",
            "40/40 [==============================] - 20s 505ms/step - loss: 0.5485 - accuracy: 0.7524 - val_loss: 0.5050 - val_accuracy: 0.7644\n",
            "Epoch 4/5\n",
            "40/40 [==============================] - 20s 497ms/step - loss: 0.3390 - accuracy: 0.8512 - val_loss: 0.3822 - val_accuracy: 0.8350\n",
            "Epoch 5/5\n",
            "40/40 [==============================] - 20s 504ms/step - loss: 0.2284 - accuracy: 0.9162 - val_loss: 0.3607 - val_accuracy: 0.8490\n"
          ],
          "name": "stdout"
        },
        {
          "output_type": "execute_result",
          "data": {
            "text/plain": [
              "<tensorflow.python.keras.callbacks.History at 0x7f86868950f0>"
            ]
          },
          "metadata": {
            "tags": []
          },
          "execution_count": 50
        }
      ]
    },
    {
      "cell_type": "markdown",
      "metadata": {
        "id": "8XZOMOeYSlVY",
        "colab_type": "text"
      },
      "source": [
        "### Deep RNN"
      ]
    },
    {
      "cell_type": "code",
      "metadata": {
        "id": "Llvjj9-mBsA2",
        "colab_type": "code",
        "colab": {
          "base_uri": "https://localhost:8080/",
          "height": 202
        },
        "outputId": "07cb1d1c-16af-420a-de98-efe32f366807"
      },
      "source": [
        "model = Sequential()\n",
        "model.add(Embedding(input_dim=vocab_size, output_dim=n_feat, trainable=True, input_length=max_words))\n",
        "model.add(SimpleRNN(units=64, return_sequences=True))\n",
        "model.add(SimpleRNN(units=32))\n",
        "model.add(Dense(1, activation='sigmoid'))\n",
        "model.compile(loss='binary_crossentropy', optimizer='adam', metrics=['accuracy'])\n",
        "model.fit(X_train, y_train, epochs=5, batch_size=512, validation_split=0.2)"
      ],
      "execution_count": 51,
      "outputs": [
        {
          "output_type": "stream",
          "text": [
            "Epoch 1/5\n",
            "40/40 [==============================] - 38s 956ms/step - loss: 0.6964 - accuracy: 0.5177 - val_loss: 0.6833 - val_accuracy: 0.5696\n",
            "Epoch 2/5\n",
            "40/40 [==============================] - 38s 945ms/step - loss: 0.6056 - accuracy: 0.6743 - val_loss: 0.5233 - val_accuracy: 0.7470\n",
            "Epoch 3/5\n",
            "40/40 [==============================] - 38s 939ms/step - loss: 0.3617 - accuracy: 0.8429 - val_loss: 0.4074 - val_accuracy: 0.8246\n",
            "Epoch 4/5\n",
            "40/40 [==============================] - 38s 942ms/step - loss: 0.2440 - accuracy: 0.9022 - val_loss: 0.5667 - val_accuracy: 0.7538\n",
            "Epoch 5/5\n",
            "40/40 [==============================] - 38s 942ms/step - loss: 0.1255 - accuracy: 0.9589 - val_loss: 0.4976 - val_accuracy: 0.8104\n"
          ],
          "name": "stdout"
        },
        {
          "output_type": "execute_result",
          "data": {
            "text/plain": [
              "<tensorflow.python.keras.callbacks.History at 0x7f8686a72dd8>"
            ]
          },
          "metadata": {
            "tags": []
          },
          "execution_count": 51
        }
      ]
    },
    {
      "cell_type": "markdown",
      "metadata": {
        "id": "zjhYbQNTWGbm",
        "colab_type": "text"
      },
      "source": [
        "### Bi-Directional"
      ]
    },
    {
      "cell_type": "code",
      "metadata": {
        "id": "RJxGvi7fS8IH",
        "colab_type": "code",
        "colab": {
          "base_uri": "https://localhost:8080/",
          "height": 202
        },
        "outputId": "a0e25d65-828d-47ea-9b1a-3010cbb12190"
      },
      "source": [
        "model = Sequential()\n",
        "model.add(Embedding(input_dim=vocab_size, output_dim=n_feat, trainable=True, input_length=max_words))\n",
        "model.add(Bidirectional(SimpleRNN(units=64)))\n",
        "model.add(Dense(1, activation='sigmoid'))\n",
        "model.compile(loss='binary_crossentropy', optimizer='adam', metrics=['accuracy'])\n",
        "model.fit(X_train, y_train, epochs=5, batch_size=512, validation_split=0.2)"
      ],
      "execution_count": 52,
      "outputs": [
        {
          "output_type": "stream",
          "text": [
            "Epoch 1/5\n",
            "40/40 [==============================] - 37s 921ms/step - loss: 0.6852 - accuracy: 0.5515 - val_loss: 0.6681 - val_accuracy: 0.5634\n",
            "Epoch 2/5\n",
            "40/40 [==============================] - 36s 907ms/step - loss: 0.5602 - accuracy: 0.7185 - val_loss: 0.4388 - val_accuracy: 0.8234\n",
            "Epoch 3/5\n",
            "40/40 [==============================] - 36s 910ms/step - loss: 0.3412 - accuracy: 0.8637 - val_loss: 0.3988 - val_accuracy: 0.8268\n",
            "Epoch 4/5\n",
            "40/40 [==============================] - 36s 902ms/step - loss: 0.3179 - accuracy: 0.8724 - val_loss: 0.3634 - val_accuracy: 0.8466\n",
            "Epoch 5/5\n",
            "40/40 [==============================] - 36s 909ms/step - loss: 0.2715 - accuracy: 0.8945 - val_loss: 0.3712 - val_accuracy: 0.8404\n"
          ],
          "name": "stdout"
        },
        {
          "output_type": "execute_result",
          "data": {
            "text/plain": [
              "<tensorflow.python.keras.callbacks.History at 0x7f86880170f0>"
            ]
          },
          "metadata": {
            "tags": []
          },
          "execution_count": 52
        }
      ]
    },
    {
      "cell_type": "markdown",
      "metadata": {
        "id": "K0SofvWu1FzL",
        "colab_type": "text"
      },
      "source": [
        "## LSTM"
      ]
    },
    {
      "cell_type": "code",
      "metadata": {
        "id": "yczmFsXZWSp6",
        "colab_type": "code",
        "colab": {
          "base_uri": "https://localhost:8080/",
          "height": 202
        },
        "outputId": "f97791d3-cd19-4727-e964-4e77f00492b2"
      },
      "source": [
        "model = Sequential()\n",
        "model.add(Embedding(input_dim=vocab_size, output_dim=n_feat, trainable=True, input_length=max_words))\n",
        "model.add(LSTM(units=64))\n",
        "model.add(Dense(1, activation='sigmoid'))\n",
        "model.compile(loss='binary_crossentropy', optimizer='adam', metrics=['accuracy'])\n",
        "model.fit(X_train, y_train, epochs=5, batch_size=512, validation_split=0.2)"
      ],
      "execution_count": 53,
      "outputs": [
        {
          "output_type": "stream",
          "text": [
            "Epoch 1/5\n",
            "40/40 [==============================] - 6s 138ms/step - loss: 0.6753 - accuracy: 0.5922 - val_loss: 0.6264 - val_accuracy: 0.7272\n",
            "Epoch 2/5\n",
            "40/40 [==============================] - 5s 127ms/step - loss: 0.4797 - accuracy: 0.8006 - val_loss: 0.3927 - val_accuracy: 0.8222\n",
            "Epoch 3/5\n",
            "40/40 [==============================] - 5s 128ms/step - loss: 0.2980 - accuracy: 0.8788 - val_loss: 0.3143 - val_accuracy: 0.8718\n",
            "Epoch 4/5\n",
            "40/40 [==============================] - 5s 128ms/step - loss: 0.2169 - accuracy: 0.9216 - val_loss: 0.3952 - val_accuracy: 0.8658\n",
            "Epoch 5/5\n",
            "40/40 [==============================] - 5s 127ms/step - loss: 0.1683 - accuracy: 0.9422 - val_loss: 0.3037 - val_accuracy: 0.8822\n"
          ],
          "name": "stdout"
        },
        {
          "output_type": "execute_result",
          "data": {
            "text/plain": [
              "<tensorflow.python.keras.callbacks.History at 0x7f8687086208>"
            ]
          },
          "metadata": {
            "tags": []
          },
          "execution_count": 53
        }
      ]
    },
    {
      "cell_type": "markdown",
      "metadata": {
        "id": "wJyJkNQr8v8t",
        "colab_type": "text"
      },
      "source": [
        "## Deep LSTM"
      ]
    },
    {
      "cell_type": "code",
      "metadata": {
        "id": "KZQDLkD910VA",
        "colab_type": "code",
        "colab": {
          "base_uri": "https://localhost:8080/",
          "height": 202
        },
        "outputId": "3001528e-7a8e-45d1-aea7-59164a428008"
      },
      "source": [
        "model = Sequential()\n",
        "model.add(Embedding(input_dim=vocab_size, output_dim=n_feat, trainable=True, input_length=max_words))\n",
        "model.add(Bidirectional(LSTM(units=64, return_sequences=True)))\n",
        "model.add(LSTM(units=32, return_sequences=True))\n",
        "model.add(LSTM(units=16, return_sequences=True))\n",
        "model.add(Dense(1, activation='sigmoid'))\n",
        "model.compile(loss='binary_crossentropy', optimizer='adam', metrics=['accuracy'])\n",
        "model.fit(X_train, y_train, epochs=5, batch_size=512, validation_split=0.2)"
      ],
      "execution_count": 54,
      "outputs": [
        {
          "output_type": "stream",
          "text": [
            "Epoch 1/5\n",
            "40/40 [==============================] - 18s 451ms/step - loss: 0.6907 - accuracy: 0.5199 - val_loss: 0.5799 - val_accuracy: 0.7180\n",
            "Epoch 2/5\n",
            "40/40 [==============================] - 17s 416ms/step - loss: 0.5515 - accuracy: 0.7505 - val_loss: 0.6421 - val_accuracy: 0.6511\n",
            "Epoch 3/5\n",
            "40/40 [==============================] - 17s 415ms/step - loss: 0.5717 - accuracy: 0.7043 - val_loss: 0.4959 - val_accuracy: 0.8038\n",
            "Epoch 4/5\n",
            "40/40 [==============================] - 17s 417ms/step - loss: 0.5907 - accuracy: 0.6779 - val_loss: 0.7031 - val_accuracy: 0.5861\n",
            "Epoch 5/5\n",
            "40/40 [==============================] - 17s 416ms/step - loss: 0.6104 - accuracy: 0.6371 - val_loss: 0.6590 - val_accuracy: 0.5851\n"
          ],
          "name": "stdout"
        },
        {
          "output_type": "execute_result",
          "data": {
            "text/plain": [
              "<tensorflow.python.keras.callbacks.History at 0x7f86232be128>"
            ]
          },
          "metadata": {
            "tags": []
          },
          "execution_count": 54
        }
      ]
    }
  ]
}