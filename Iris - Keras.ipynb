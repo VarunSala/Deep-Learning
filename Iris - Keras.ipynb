{
 "cells": [
  {
   "cell_type": "code",
   "execution_count": 1,
   "metadata": {},
   "outputs": [],
   "source": [
    "import numpy as np\n",
    "import pandas as pd\n",
    "import matplotlib.pyplot as plt"
   ]
  },
  {
   "cell_type": "code",
   "execution_count": 2,
   "metadata": {},
   "outputs": [],
   "source": [
    "from sklearn.datasets import load_iris"
   ]
  },
  {
   "cell_type": "code",
   "execution_count": 3,
   "metadata": {},
   "outputs": [],
   "source": [
    "iris = load_iris()"
   ]
  },
  {
   "cell_type": "code",
   "execution_count": 4,
   "metadata": {},
   "outputs": [
    {
     "data": {
      "text/plain": [
       "sklearn.utils.Bunch"
      ]
     },
     "execution_count": 4,
     "metadata": {},
     "output_type": "execute_result"
    }
   ],
   "source": [
    "type(iris)"
   ]
  },
  {
   "cell_type": "code",
   "execution_count": 5,
   "metadata": {},
   "outputs": [],
   "source": [
    "X = iris.data"
   ]
  },
  {
   "cell_type": "code",
   "execution_count": 6,
   "metadata": {},
   "outputs": [],
   "source": [
    "y = iris.target"
   ]
  },
  {
   "cell_type": "code",
   "execution_count": 7,
   "metadata": {},
   "outputs": [
    {
     "name": "stderr",
     "output_type": "stream",
     "text": [
      "Using TensorFlow backend.\n"
     ]
    }
   ],
   "source": [
    "from keras.utils import to_categorical"
   ]
  },
  {
   "cell_type": "code",
   "execution_count": 8,
   "metadata": {},
   "outputs": [],
   "source": [
    "y = to_categorical(y)"
   ]
  },
  {
   "cell_type": "code",
   "execution_count": 9,
   "metadata": {},
   "outputs": [],
   "source": [
    "from sklearn.model_selection import train_test_split"
   ]
  },
  {
   "cell_type": "code",
   "execution_count": 10,
   "metadata": {},
   "outputs": [],
   "source": [
    "X_train, X_test, y_train, y_test = train_test_split(X, y, test_size=0.33, random_state=42)"
   ]
  },
  {
   "cell_type": "code",
   "execution_count": 11,
   "metadata": {},
   "outputs": [],
   "source": [
    "from sklearn.preprocessing import MinMaxScaler"
   ]
  },
  {
   "cell_type": "code",
   "execution_count": 12,
   "metadata": {},
   "outputs": [],
   "source": [
    "scaler = MinMaxScaler()"
   ]
  },
  {
   "cell_type": "code",
   "execution_count": 13,
   "metadata": {},
   "outputs": [
    {
     "data": {
      "text/plain": [
       "MinMaxScaler()"
      ]
     },
     "execution_count": 13,
     "metadata": {},
     "output_type": "execute_result"
    }
   ],
   "source": [
    "scaler.fit(X_train)"
   ]
  },
  {
   "cell_type": "code",
   "execution_count": 14,
   "metadata": {},
   "outputs": [],
   "source": [
    "scaled_X_train = scaler.transform(X_train)"
   ]
  },
  {
   "cell_type": "code",
   "execution_count": 15,
   "metadata": {},
   "outputs": [],
   "source": [
    "scaled_X_test = scaler.transform(X_test)"
   ]
  },
  {
   "cell_type": "code",
   "execution_count": 16,
   "metadata": {},
   "outputs": [],
   "source": [
    "import keras\n",
    "from keras.models import Sequential\n",
    "from keras.layers import Dense"
   ]
  },
  {
   "cell_type": "code",
   "execution_count": 17,
   "metadata": {},
   "outputs": [],
   "source": [
    "model = Sequential()\n",
    "model.add(Dense(8, input_dim=4, activation='relu'))\n",
    "model.add(Dense(8, input_dim=4, activation='relu'))\n",
    "model.add(Dense(3, activation='softmax'))\n",
    "model.compile(loss='categorical_crossentropy',optimizer='adam',metrics=['accuracy'])"
   ]
  },
  {
   "cell_type": "code",
   "execution_count": 18,
   "metadata": {},
   "outputs": [
    {
     "name": "stdout",
     "output_type": "stream",
     "text": [
      "Model: \"sequential_1\"\n",
      "_________________________________________________________________\n",
      "Layer (type)                 Output Shape              Param #   \n",
      "=================================================================\n",
      "dense_1 (Dense)              (None, 8)                 40        \n",
      "_________________________________________________________________\n",
      "dense_2 (Dense)              (None, 8)                 72        \n",
      "_________________________________________________________________\n",
      "dense_3 (Dense)              (None, 3)                 27        \n",
      "=================================================================\n",
      "Total params: 139\n",
      "Trainable params: 139\n",
      "Non-trainable params: 0\n",
      "_________________________________________________________________\n"
     ]
    }
   ],
   "source": [
    "model.summary()"
   ]
  },
  {
   "cell_type": "code",
   "execution_count": 19,
   "metadata": {},
   "outputs": [
    {
     "name": "stdout",
     "output_type": "stream",
     "text": [
      "Epoch 1/150\n",
      " - 0s - loss: 1.1531 - accuracy: 0.3100\n",
      "Epoch 2/150\n",
      " - 0s - loss: 1.1397 - accuracy: 0.3100\n",
      "Epoch 3/150\n",
      " - 0s - loss: 1.1281 - accuracy: 0.3100\n",
      "Epoch 4/150\n",
      " - 0s - loss: 1.1180 - accuracy: 0.3100\n",
      "Epoch 5/150\n",
      " - 0s - loss: 1.1092 - accuracy: 0.3100\n",
      "Epoch 6/150\n",
      " - 0s - loss: 1.1021 - accuracy: 0.3200\n",
      "Epoch 7/150\n",
      " - 0s - loss: 1.0949 - accuracy: 0.3200\n",
      "Epoch 8/150\n",
      " - 0s - loss: 1.0882 - accuracy: 0.3200\n",
      "Epoch 9/150\n",
      " - 0s - loss: 1.0817 - accuracy: 0.3300\n",
      "Epoch 10/150\n",
      " - 0s - loss: 1.0750 - accuracy: 0.3300\n",
      "Epoch 11/150\n",
      " - 0s - loss: 1.0687 - accuracy: 0.3500\n",
      "Epoch 12/150\n",
      " - 0s - loss: 1.0622 - accuracy: 0.3800\n",
      "Epoch 13/150\n",
      " - 0s - loss: 1.0557 - accuracy: 0.4200\n",
      "Epoch 14/150\n",
      " - 0s - loss: 1.0495 - accuracy: 0.4400\n",
      "Epoch 15/150\n",
      " - 0s - loss: 1.0432 - accuracy: 0.4600\n",
      "Epoch 16/150\n",
      " - 0s - loss: 1.0363 - accuracy: 0.5100\n",
      "Epoch 17/150\n",
      " - 0s - loss: 1.0286 - accuracy: 0.5600\n",
      "Epoch 18/150\n",
      " - 0s - loss: 1.0199 - accuracy: 0.6000\n",
      "Epoch 19/150\n",
      " - 0s - loss: 1.0097 - accuracy: 0.6300\n",
      "Epoch 20/150\n",
      " - 0s - loss: 0.9997 - accuracy: 0.6500\n",
      "Epoch 21/150\n",
      " - 0s - loss: 0.9892 - accuracy: 0.6500\n",
      "Epoch 22/150\n",
      " - 0s - loss: 0.9793 - accuracy: 0.6500\n",
      "Epoch 23/150\n",
      " - 0s - loss: 0.9695 - accuracy: 0.6500\n",
      "Epoch 24/150\n",
      " - 0s - loss: 0.9605 - accuracy: 0.6500\n",
      "Epoch 25/150\n",
      " - 0s - loss: 0.9518 - accuracy: 0.6600\n",
      "Epoch 26/150\n",
      " - 0s - loss: 0.9427 - accuracy: 0.6600\n",
      "Epoch 27/150\n",
      " - 0s - loss: 0.9343 - accuracy: 0.6600\n",
      "Epoch 28/150\n",
      " - 0s - loss: 0.9254 - accuracy: 0.6600\n",
      "Epoch 29/150\n",
      " - 0s - loss: 0.9161 - accuracy: 0.6600\n",
      "Epoch 30/150\n",
      " - 0s - loss: 0.9073 - accuracy: 0.6600\n",
      "Epoch 31/150\n",
      " - 0s - loss: 0.8982 - accuracy: 0.6600\n",
      "Epoch 32/150\n",
      " - 0s - loss: 0.8897 - accuracy: 0.6600\n",
      "Epoch 33/150\n",
      " - 0s - loss: 0.8808 - accuracy: 0.6600\n",
      "Epoch 34/150\n",
      " - 0s - loss: 0.8720 - accuracy: 0.6600\n",
      "Epoch 35/150\n",
      " - 0s - loss: 0.8632 - accuracy: 0.6600\n",
      "Epoch 36/150\n",
      " - 0s - loss: 0.8544 - accuracy: 0.6600\n",
      "Epoch 37/150\n",
      " - 0s - loss: 0.8460 - accuracy: 0.6600\n",
      "Epoch 38/150\n",
      " - 0s - loss: 0.8379 - accuracy: 0.6600\n",
      "Epoch 39/150\n",
      " - 0s - loss: 0.8300 - accuracy: 0.6600\n",
      "Epoch 40/150\n",
      " - 0s - loss: 0.8223 - accuracy: 0.6600\n",
      "Epoch 41/150\n",
      " - 0s - loss: 0.8145 - accuracy: 0.6600\n",
      "Epoch 42/150\n",
      " - 0s - loss: 0.8067 - accuracy: 0.6600\n",
      "Epoch 43/150\n",
      " - 0s - loss: 0.7989 - accuracy: 0.6600\n",
      "Epoch 44/150\n",
      " - 0s - loss: 0.7913 - accuracy: 0.6600\n",
      "Epoch 45/150\n",
      " - 0s - loss: 0.7838 - accuracy: 0.6600\n",
      "Epoch 46/150\n",
      " - 0s - loss: 0.7763 - accuracy: 0.6600\n",
      "Epoch 47/150\n",
      " - 0s - loss: 0.7694 - accuracy: 0.6600\n",
      "Epoch 48/150\n",
      " - 0s - loss: 0.7621 - accuracy: 0.6600\n",
      "Epoch 49/150\n",
      " - 0s - loss: 0.7549 - accuracy: 0.6600\n",
      "Epoch 50/150\n",
      " - 0s - loss: 0.7482 - accuracy: 0.6600\n",
      "Epoch 51/150\n",
      " - 0s - loss: 0.7416 - accuracy: 0.6600\n",
      "Epoch 52/150\n",
      " - 0s - loss: 0.7352 - accuracy: 0.6600\n",
      "Epoch 53/150\n",
      " - 0s - loss: 0.7291 - accuracy: 0.6600\n",
      "Epoch 54/150\n",
      " - 0s - loss: 0.7224 - accuracy: 0.6600\n",
      "Epoch 55/150\n",
      " - 0s - loss: 0.7159 - accuracy: 0.6600\n",
      "Epoch 56/150\n",
      " - 0s - loss: 0.7094 - accuracy: 0.6600\n",
      "Epoch 57/150\n",
      " - 0s - loss: 0.7029 - accuracy: 0.6600\n",
      "Epoch 58/150\n",
      " - 0s - loss: 0.6967 - accuracy: 0.6600\n",
      "Epoch 59/150\n",
      " - 0s - loss: 0.6906 - accuracy: 0.6600\n",
      "Epoch 60/150\n",
      " - 0s - loss: 0.6848 - accuracy: 0.6600\n",
      "Epoch 61/150\n",
      " - 0s - loss: 0.6792 - accuracy: 0.6600\n",
      "Epoch 62/150\n",
      " - 0s - loss: 0.6738 - accuracy: 0.6600\n",
      "Epoch 63/150\n",
      " - 0s - loss: 0.6686 - accuracy: 0.6600\n",
      "Epoch 64/150\n",
      " - 0s - loss: 0.6633 - accuracy: 0.6600\n",
      "Epoch 65/150\n",
      " - 0s - loss: 0.6585 - accuracy: 0.6600\n",
      "Epoch 66/150\n",
      " - 0s - loss: 0.6534 - accuracy: 0.6600\n",
      "Epoch 67/150\n",
      " - 0s - loss: 0.6487 - accuracy: 0.6600\n",
      "Epoch 68/150\n",
      " - 0s - loss: 0.6438 - accuracy: 0.6600\n",
      "Epoch 69/150\n",
      " - 0s - loss: 0.6392 - accuracy: 0.6600\n",
      "Epoch 70/150\n",
      " - 0s - loss: 0.6348 - accuracy: 0.6600\n",
      "Epoch 71/150\n",
      " - 0s - loss: 0.6305 - accuracy: 0.6600\n",
      "Epoch 72/150\n",
      " - 0s - loss: 0.6264 - accuracy: 0.6600\n",
      "Epoch 73/150\n",
      " - 0s - loss: 0.6221 - accuracy: 0.6600\n",
      "Epoch 74/150\n",
      " - 0s - loss: 0.6180 - accuracy: 0.6600\n",
      "Epoch 75/150\n",
      " - 0s - loss: 0.6142 - accuracy: 0.6600\n",
      "Epoch 76/150\n",
      " - 0s - loss: 0.6103 - accuracy: 0.6600\n",
      "Epoch 77/150\n",
      " - 0s - loss: 0.6065 - accuracy: 0.6600\n",
      "Epoch 78/150\n",
      " - 0s - loss: 0.6028 - accuracy: 0.6600\n",
      "Epoch 79/150\n",
      " - 0s - loss: 0.5990 - accuracy: 0.6600\n",
      "Epoch 80/150\n",
      " - 0s - loss: 0.5953 - accuracy: 0.6600\n",
      "Epoch 81/150\n",
      " - 0s - loss: 0.5917 - accuracy: 0.6600\n",
      "Epoch 82/150\n",
      " - 0s - loss: 0.5882 - accuracy: 0.6600\n",
      "Epoch 83/150\n",
      " - 0s - loss: 0.5846 - accuracy: 0.6600\n",
      "Epoch 84/150\n",
      " - 0s - loss: 0.5810 - accuracy: 0.6600\n",
      "Epoch 85/150\n",
      " - 0s - loss: 0.5776 - accuracy: 0.6600\n",
      "Epoch 86/150\n",
      " - 0s - loss: 0.5743 - accuracy: 0.6600\n",
      "Epoch 87/150\n",
      " - 0s - loss: 0.5708 - accuracy: 0.6600\n",
      "Epoch 88/150\n",
      " - 0s - loss: 0.5674 - accuracy: 0.6600\n",
      "Epoch 89/150\n",
      " - 0s - loss: 0.5641 - accuracy: 0.6600\n",
      "Epoch 90/150\n",
      " - 0s - loss: 0.5608 - accuracy: 0.6600\n",
      "Epoch 91/150\n",
      " - 0s - loss: 0.5575 - accuracy: 0.6600\n",
      "Epoch 92/150\n",
      " - 0s - loss: 0.5542 - accuracy: 0.6600\n",
      "Epoch 93/150\n",
      " - 0s - loss: 0.5510 - accuracy: 0.6600\n",
      "Epoch 94/150\n",
      " - 0s - loss: 0.5477 - accuracy: 0.6600\n",
      "Epoch 95/150\n",
      " - 0s - loss: 0.5445 - accuracy: 0.6600\n",
      "Epoch 96/150\n",
      " - 0s - loss: 0.5413 - accuracy: 0.6600\n",
      "Epoch 97/150\n",
      " - 0s - loss: 0.5381 - accuracy: 0.6600\n",
      "Epoch 98/150\n",
      " - 0s - loss: 0.5347 - accuracy: 0.6600\n",
      "Epoch 99/150\n",
      " - 0s - loss: 0.5315 - accuracy: 0.6600\n",
      "Epoch 100/150\n",
      " - 0s - loss: 0.5282 - accuracy: 0.6600\n",
      "Epoch 101/150\n",
      " - 0s - loss: 0.5249 - accuracy: 0.6600\n",
      "Epoch 102/150\n",
      " - 0s - loss: 0.5216 - accuracy: 0.6600\n",
      "Epoch 103/150\n",
      " - 0s - loss: 0.5188 - accuracy: 0.6600\n",
      "Epoch 104/150\n",
      " - 0s - loss: 0.5152 - accuracy: 0.6600\n",
      "Epoch 105/150\n",
      " - 0s - loss: 0.5121 - accuracy: 0.6600\n",
      "Epoch 106/150\n",
      " - 0s - loss: 0.5091 - accuracy: 0.6600\n",
      "Epoch 107/150\n",
      " - 0s - loss: 0.5060 - accuracy: 0.6600\n",
      "Epoch 108/150\n",
      " - 0s - loss: 0.5032 - accuracy: 0.6600\n",
      "Epoch 109/150\n",
      " - 0s - loss: 0.5003 - accuracy: 0.6600\n",
      "Epoch 110/150\n",
      " - 0s - loss: 0.4971 - accuracy: 0.6600\n",
      "Epoch 111/150\n",
      " - 0s - loss: 0.4941 - accuracy: 0.6600\n",
      "Epoch 112/150\n",
      " - 0s - loss: 0.4908 - accuracy: 0.6700\n",
      "Epoch 113/150\n",
      " - 0s - loss: 0.4878 - accuracy: 0.7200\n",
      "Epoch 114/150\n",
      " - 0s - loss: 0.4848 - accuracy: 0.7800\n",
      "Epoch 115/150\n",
      " - 0s - loss: 0.4820 - accuracy: 0.8600\n",
      "Epoch 116/150\n",
      " - 0s - loss: 0.4789 - accuracy: 0.9300\n",
      "Epoch 117/150\n",
      " - 0s - loss: 0.4759 - accuracy: 0.9500\n",
      "Epoch 118/150\n",
      " - 0s - loss: 0.4727 - accuracy: 0.9400\n",
      "Epoch 119/150\n",
      " - 0s - loss: 0.4692 - accuracy: 0.9500\n",
      "Epoch 120/150\n",
      " - 0s - loss: 0.4656 - accuracy: 0.9500\n",
      "Epoch 121/150\n",
      " - 0s - loss: 0.4623 - accuracy: 0.9200\n",
      "Epoch 122/150\n",
      " - 0s - loss: 0.4613 - accuracy: 0.8800\n",
      "Epoch 123/150\n",
      " - 0s - loss: 0.4581 - accuracy: 0.8800\n",
      "Epoch 124/150\n",
      " - 0s - loss: 0.4532 - accuracy: 0.9200\n",
      "Epoch 125/150\n",
      " - 0s - loss: 0.4499 - accuracy: 0.9600\n",
      "Epoch 126/150\n",
      " - 0s - loss: 0.4470 - accuracy: 0.9500\n",
      "Epoch 127/150\n",
      " - 0s - loss: 0.4445 - accuracy: 0.9300\n",
      "Epoch 128/150\n",
      " - 0s - loss: 0.4420 - accuracy: 0.9300\n",
      "Epoch 129/150\n",
      " - 0s - loss: 0.4387 - accuracy: 0.9300\n",
      "Epoch 130/150\n",
      " - 0s - loss: 0.4345 - accuracy: 0.9300\n",
      "Epoch 131/150\n",
      " - 0s - loss: 0.4304 - accuracy: 0.9500\n",
      "Epoch 132/150\n",
      " - 0s - loss: 0.4283 - accuracy: 0.9500\n",
      "Epoch 133/150\n",
      " - 0s - loss: 0.4248 - accuracy: 0.9400\n",
      "Epoch 134/150\n",
      " - 0s - loss: 0.4225 - accuracy: 0.9300\n",
      "Epoch 135/150\n",
      " - 0s - loss: 0.4197 - accuracy: 0.9000\n",
      "Epoch 136/150\n",
      " - 0s - loss: 0.4172 - accuracy: 0.8900\n",
      "Epoch 137/150\n",
      " - 0s - loss: 0.4131 - accuracy: 0.9300\n",
      "Epoch 138/150\n",
      " - 0s - loss: 0.4076 - accuracy: 0.9600\n",
      "Epoch 139/150\n",
      " - 0s - loss: 0.4042 - accuracy: 0.9600\n",
      "Epoch 140/150\n",
      " - 0s - loss: 0.4013 - accuracy: 0.9500\n",
      "Epoch 141/150\n",
      " - 0s - loss: 0.3988 - accuracy: 0.9400\n",
      "Epoch 142/150\n",
      " - 0s - loss: 0.3948 - accuracy: 0.9400\n",
      "Epoch 143/150\n",
      " - 0s - loss: 0.3911 - accuracy: 0.9500\n",
      "Epoch 144/150\n",
      " - 0s - loss: 0.3878 - accuracy: 0.9600\n",
      "Epoch 145/150\n",
      " - 0s - loss: 0.3846 - accuracy: 0.9600\n",
      "Epoch 146/150\n",
      " - 0s - loss: 0.3810 - accuracy: 0.9500\n",
      "Epoch 147/150\n",
      " - 0s - loss: 0.3778 - accuracy: 0.9500\n",
      "Epoch 148/150\n",
      " - 0s - loss: 0.3739 - accuracy: 0.9500\n",
      "Epoch 149/150\n",
      " - 0s - loss: 0.3705 - accuracy: 0.9500\n",
      "Epoch 150/150\n",
      " - 0s - loss: 0.3671 - accuracy: 0.9500\n"
     ]
    },
    {
     "data": {
      "text/plain": [
       "<keras.callbacks.callbacks.History at 0x1dec4983a88>"
      ]
     },
     "execution_count": 19,
     "metadata": {},
     "output_type": "execute_result"
    }
   ],
   "source": [
    "model.fit(scaled_X_train, y_train, epochs=150, verbose=2)"
   ]
  },
  {
   "cell_type": "code",
   "execution_count": 20,
   "metadata": {},
   "outputs": [
    {
     "data": {
      "text/plain": [
       "array([1, 0, 2, 1, 1, 0, 1, 2, 2, 1, 1, 0, 0, 0, 0, 1, 2, 1, 1, 2, 0, 1,\n",
       "       0, 2, 1, 2, 2, 2, 0, 0, 0, 0, 1, 0, 0, 2, 1, 0, 0, 0, 2, 1, 1, 0,\n",
       "       0, 1, 2, 2, 1, 2], dtype=int64)"
      ]
     },
     "execution_count": 20,
     "metadata": {},
     "output_type": "execute_result"
    }
   ],
   "source": [
    "predictions = model.predict_classes(scaled_X_test)\n",
    "predictions"
   ]
  },
  {
   "cell_type": "code",
   "execution_count": 21,
   "metadata": {},
   "outputs": [
    {
     "data": {
      "text/plain": [
       "array([1, 0, 2, 1, 1, 0, 1, 2, 1, 1, 2, 0, 0, 0, 0, 1, 2, 1, 1, 2, 0, 2,\n",
       "       0, 2, 2, 2, 2, 2, 0, 0, 0, 0, 1, 0, 0, 2, 1, 0, 0, 0, 2, 1, 1, 0,\n",
       "       0, 1, 2, 2, 1, 2], dtype=int64)"
      ]
     },
     "execution_count": 21,
     "metadata": {},
     "output_type": "execute_result"
    }
   ],
   "source": [
    "y_test.argmax(axis=1)"
   ]
  },
  {
   "cell_type": "code",
   "execution_count": 22,
   "metadata": {},
   "outputs": [],
   "source": [
    "from sklearn.metrics import classification_report, confusion_matrix, accuracy_score"
   ]
  },
  {
   "cell_type": "code",
   "execution_count": 25,
   "metadata": {},
   "outputs": [
    {
     "name": "stdout",
     "output_type": "stream",
     "text": [
      "              precision    recall  f1-score   support\n",
      "\n",
      "           0       1.00      1.00      1.00        19\n",
      "           1       0.82      0.93      0.87        15\n",
      "           2       0.93      0.81      0.87        16\n",
      "\n",
      "    accuracy                           0.92        50\n",
      "   macro avg       0.92      0.92      0.91        50\n",
      "weighted avg       0.92      0.92      0.92        50\n",
      "\n"
     ]
    }
   ],
   "source": [
    "print(classification_report(y_test.argmax(axis=1), predictions))"
   ]
  },
  {
   "cell_type": "code",
   "execution_count": 26,
   "metadata": {},
   "outputs": [
    {
     "name": "stdout",
     "output_type": "stream",
     "text": [
      "[[19  0  0]\n",
      " [ 0 14  1]\n",
      " [ 0  3 13]]\n"
     ]
    }
   ],
   "source": [
    "print(confusion_matrix(y_test.argmax(axis=1), predictions))"
   ]
  },
  {
   "cell_type": "code",
   "execution_count": 27,
   "metadata": {},
   "outputs": [
    {
     "name": "stdout",
     "output_type": "stream",
     "text": [
      "0.92\n"
     ]
    }
   ],
   "source": [
    "print(accuracy_score(y_test.argmax(axis=1), predictions))"
   ]
  },
  {
   "cell_type": "code",
   "execution_count": 28,
   "metadata": {},
   "outputs": [],
   "source": [
    "model.save('irismodel.h5')"
   ]
  },
  {
   "cell_type": "code",
   "execution_count": 29,
   "metadata": {},
   "outputs": [],
   "source": [
    "from keras.models import load_model"
   ]
  },
  {
   "cell_type": "code",
   "execution_count": 30,
   "metadata": {},
   "outputs": [],
   "source": [
    "new_model = load_model('irismodel.h5')"
   ]
  },
  {
   "cell_type": "code",
   "execution_count": 31,
   "metadata": {},
   "outputs": [
    {
     "data": {
      "text/plain": [
       "array([1, 0, 2, 1, 1, 0, 1, 2, 2, 1, 1, 0, 0, 0, 0, 1, 2, 1, 1, 2, 0, 1,\n",
       "       0, 2, 1, 2, 2, 2, 0, 0, 0, 0, 1, 0, 0, 2, 1, 0, 0, 0, 2, 1, 1, 0,\n",
       "       0, 1, 2, 2, 1, 2], dtype=int64)"
      ]
     },
     "execution_count": 31,
     "metadata": {},
     "output_type": "execute_result"
    }
   ],
   "source": [
    "new_model.predict_classes(scaled_X_test)"
   ]
  }
 ],
 "metadata": {
  "kernelspec": {
   "display_name": "gputest",
   "language": "python",
   "name": "gputest"
  },
  "language_info": {
   "codemirror_mode": {
    "name": "ipython",
    "version": 3
   },
   "file_extension": ".py",
   "mimetype": "text/x-python",
   "name": "python",
   "nbconvert_exporter": "python",
   "pygments_lexer": "ipython3",
   "version": "3.7.7"
  }
 },
 "nbformat": 4,
 "nbformat_minor": 2
}
